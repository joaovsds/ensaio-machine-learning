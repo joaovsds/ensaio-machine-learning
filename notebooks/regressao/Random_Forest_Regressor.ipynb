{
 "cells": [
  {
   "cell_type": "markdown",
   "id": "c922c295-6bb5-476d-9998-4759abe81f6c",
   "metadata": {},
   "source": [
    "# 0.0 Imports"
   ]
  },
  {
   "cell_type": "code",
   "execution_count": 1,
   "id": "aab3c8f7-cee4-4af2-95ff-a307b4c1e01b",
   "metadata": {},
   "outputs": [],
   "source": [
    "import warnings\n",
    "\n",
    "import pandas as pd\n",
    "import numpy  as np\n",
    "import os\n",
    "\n",
    "from matplotlib        import pyplot as plt\n",
    "from sklearn.ensemble  import RandomForestRegressor\n",
    "from sklearn.metrics   import r2_score, mean_squared_error, mean_absolute_error, mean_absolute_percentage_error"
   ]
  },
  {
   "cell_type": "code",
   "execution_count": 2,
   "id": "49bcd254-e681-4b5c-8d9a-45dad6db652e",
   "metadata": {},
   "outputs": [],
   "source": [
    "warnings.filterwarnings('ignore')"
   ]
  },
  {
   "cell_type": "markdown",
   "id": "bc838396-b480-428a-b059-723519822000",
   "metadata": {},
   "source": [
    "# 1.0  Load Datasets"
   ]
  },
  {
   "cell_type": "code",
   "execution_count": 3,
   "id": "cb7df262-0039-4091-beca-6bafc2dff859",
   "metadata": {},
   "outputs": [],
   "source": [
    "# executando o arquivo metrics_functions\n",
    "get_ipython().run_line_magic('run', 'Metrics_functions.ipynb')"
   ]
  },
  {
   "cell_type": "code",
   "execution_count": 4,
   "id": "8a5c5c0e-0184-4e85-96e2-9d6a337d0571",
   "metadata": {},
   "outputs": [],
   "source": [
    "# carregando os dados\n",
    "x_train, y_train, x_val, y_val, x_test, y_test = load_data('regressao')"
   ]
  },
  {
   "cell_type": "markdown",
   "id": "863dfea3-d17d-4711-aa6a-8a5bc6f05ac7",
   "metadata": {},
   "source": [
    "# 2.0 Training Model"
   ]
  },
  {
   "cell_type": "code",
   "execution_count": 5,
   "id": "38f11858-4c67-470c-8ea6-38db4360e6cf",
   "metadata": {},
   "outputs": [
    {
     "name": "stdout",
     "output_type": "stream",
     "text": [
      "Metricas de Treinamento: \n",
      "R2:   0.904\n",
      "MSE:  46.06\n",
      "RMSE: 6.787\n",
      "MAE:  4.859\n",
      "MAPE: 2.606\n"
     ]
    }
   ],
   "source": [
    "# treinamento \n",
    "R_forest = RandomForestRegressor()\n",
    "R_forest.fit(x_train, y_train)\n",
    "\n",
    "#predict\n",
    "y_pred = R_forest.predict(x_train) \n",
    "\n",
    "# performance\n",
    "metrics(y_train, y_pred, 'Treinamento')\n",
    "\n",
    "# guarando resultados\n",
    "r2_train, mse_train, rmse_train, mae_train, mape_train = save_metrics(y_train, y_pred)"
   ]
  },
  {
   "cell_type": "markdown",
   "id": "526c7ef5-692d-4a94-a58a-6d9bd7532756",
   "metadata": {},
   "source": [
    "## 2.1 Performance on Validation Data"
   ]
  },
  {
   "cell_type": "code",
   "execution_count": 6,
   "id": "ba34b068-f296-4d36-98e3-9ee97ff1cf70",
   "metadata": {},
   "outputs": [
    {
     "name": "stdout",
     "output_type": "stream",
     "text": [
      "Metricas de Validação: \n",
      "R2:   0.335\n",
      "MSE:  317.329\n",
      "RMSE: 17.814\n",
      "MAE:  12.978\n",
      "MAPE: 6.965\n"
     ]
    }
   ],
   "source": [
    "# treinamento\n",
    "R_forest = RandomForestRegressor()\n",
    "R_forest.fit(x_train, y_train)\n",
    "\n",
    "#predict\n",
    "y_pred_val = R_forest.predict(x_val)\n",
    "\n",
    "#performance\n",
    "metrics(y_val, y_pred_val, 'Validação')\n",
    "\n",
    "# guardando resultados\n",
    "r2_val, mse_val, rmse_val, mae_val, mape_val = save_metrics(y_val, y_pred_val)"
   ]
  },
  {
   "cell_type": "markdown",
   "id": "bbad9742-0257-4c69-8b83-398174e7f00a",
   "metadata": {},
   "source": [
    "## 2.2 Finding The best Parameter"
   ]
  },
  {
   "cell_type": "markdown",
   "id": "2d995690-e367-4bda-9a32-400899aed00e",
   "metadata": {},
   "source": [
    "### Parameter\n",
    "* Max_depth\n",
    "* N_estimators"
   ]
  },
  {
   "cell_type": "code",
   "execution_count": 7,
   "id": "3e0efcab-98b0-4799-8834-fd1e4cf817e9",
   "metadata": {},
   "outputs": [],
   "source": [
    "values = np.arange(1, 35, 1)\n",
    "\n",
    "r2_list = []\n",
    "mse_list = []\n",
    "rmse_list = []\n",
    "mae_list = []\n",
    "mape_list = []"
   ]
  },
  {
   "cell_type": "code",
   "execution_count": 8,
   "id": "c19ddbb8-044d-4ab8-90a6-6db084ddc779",
   "metadata": {},
   "outputs": [],
   "source": [
    "for i in values:\n",
    "    # treinamento\n",
    "    R_forest = RandomForestRegressor( max_depth = i)\n",
    "    R_forest.fit(x_train, y_train)\n",
    "\n",
    "    #predict\n",
    "    y_pred_val = R_forest.predict(x_val)\n",
    "\n",
    "    # performance\n",
    "    r2, mse, rmse, mae, mape = save_metrics(y_val, y_pred_val)\n",
    "\n",
    "    #guarando resultados\n",
    "    r2_list.append(r2)\n",
    "    mse_list.append(mse)\n",
    "    rmse_list.append(rmse)\n",
    "    mae_list.append(mae)\n",
    "    mape_list.append(mape)"
   ]
  },
  {
   "cell_type": "code",
   "execution_count": 9,
   "id": "dc79a812-f6d4-488e-97be-f4646dd25e36",
   "metadata": {},
   "outputs": [
    {
     "data": {
      "text/plain": [
       "<matplotlib.legend.Legend at 0x7138ed9c8400>"
      ]
     },
     "execution_count": 9,
     "metadata": {},
     "output_type": "execute_result"
    },
    {
     "data": {
      "image/png": "[encoded data removed]",
      "text/plain": [
       "<Figure size 640x480 with 1 Axes>"
      ]
     },
     "metadata": {},
     "output_type": "display_data"
    }
   ],
   "source": [
    "# Visualização da metrica\n",
    "plt.plot(values, rmse_list, marker = 'o', label = 'RMSE')\n",
    "plt.xlabel('Max Depth')\n",
    "plt.ylabel('RMSE')\n",
    "plt.legend()"
   ]
  },
  {
   "cell_type": "code",
   "execution_count": 10,
   "id": "3fd4cdf2-87b0-4375-b460-283939a69c48",
   "metadata": {},
   "outputs": [
    {
     "data": {
      "text/plain": [
       "26"
      ]
     },
     "execution_count": 10,
     "metadata": {},
     "output_type": "execute_result"
    }
   ],
   "source": [
    "best_depth = values[np.argmin(rmse_list)]\n",
    "best_depth"
   ]
  },
  {
   "cell_type": "code",
   "execution_count": 11,
   "id": "3515e73d-ad95-4adb-b4fb-fdcd0edc8af9",
   "metadata": {},
   "outputs": [],
   "source": [
    "values = np.arange(1, 300, 10)\n",
    "\n",
    "r2_list = []\n",
    "mse_list = []\n",
    "rmse_list = []\n",
    "mae_list = []\n",
    "mape_list = []"
   ]
  },
  {
   "cell_type": "code",
   "execution_count": 12,
   "id": "e2197ed5-e1af-4c00-a735-8548f63c20d5",
   "metadata": {},
   "outputs": [],
   "source": [
    "for i in values:\n",
    "    # treinamento\n",
    "    R_forest = RandomForestRegressor( n_estimators = i)\n",
    "    R_forest.fit(x_train, y_train)\n",
    "\n",
    "    #predict\n",
    "    y_pred_val = R_forest.predict(x_val)\n",
    "\n",
    "    # performance\n",
    "    r2, mse, rmse, mae, mape = save_metrics(y_val, y_pred_val)\n",
    "\n",
    "    #guarando resultados\n",
    "    r2_list.append(r2)\n",
    "    mse_list.append(mse)\n",
    "    rmse_list.append(rmse)\n",
    "    mae_list.append(mae)\n",
    "    mape_list.append(mape)"
   ]
  },
  {
   "cell_type": "code",
   "execution_count": 13,
   "id": "7749874d-3b42-4b1a-add2-93a0096d1a35",
   "metadata": {},
   "outputs": [
    {
     "data": {
      "text/plain": [
       "<matplotlib.legend.Legend at 0x7138eb4603a0>"
      ]
     },
     "execution_count": 13,
     "metadata": {},
     "output_type": "execute_result"
    },
    {
     "data": {
      "image/png": "[encoded data removed]",
      "text/plain": [
       "<Figure size 640x480 with 1 Axes>"
      ]
     },
     "metadata": {},
     "output_type": "display_data"
    }
   ],
   "source": [
    "# Visualização da metrica\n",
    "plt.plot(values, rmse_list, marker = 'o', label = 'RMSE')\n",
    "plt.xlabel('N_estimatores')\n",
    "plt.ylabel('RMSE')\n",
    "plt.legend()"
   ]
  },
  {
   "cell_type": "code",
   "execution_count": 14,
   "id": "96a6751d-2452-4cb0-9dd7-52bf8f6f7191",
   "metadata": {},
   "outputs": [
    {
     "data": {
      "text/plain": [
       "291"
      ]
     },
     "execution_count": 14,
     "metadata": {},
     "output_type": "execute_result"
    }
   ],
   "source": [
    "best_estimators = values[np.argmin(rmse_list)]\n",
    "best_estimators"
   ]
  },
  {
   "cell_type": "markdown",
   "id": "3c35016e-91e3-4d01-8f35-999093bdcca9",
   "metadata": {},
   "source": [
    "## 2.3 Performance on Test Data"
   ]
  },
  {
   "cell_type": "code",
   "execution_count": 15,
   "id": "154e99ad-3a69-45a5-b157-bf0ba75ab624",
   "metadata": {},
   "outputs": [
    {
     "name": "stdout",
     "output_type": "stream",
     "text": [
      "Metricas de Teste: \n",
      "R2:   0.404\n",
      "MSE:  290.071\n",
      "RMSE: 17.031\n",
      "MAE:  12.254\n",
      "MAPE: 6.32\n"
     ]
    }
   ],
   "source": [
    "# treinamento \n",
    "R_forest = RandomForestRegressor(max_depth = best_depth, n_estimators = best_estimators)\n",
    "R_forest.fit(np.concatenate((x_train, x_val)),\n",
    "             np.concatenate((y_train, y_val)))\n",
    "\n",
    "#predict\n",
    "y_pred_test = R_forest.predict(x_test)\n",
    "\n",
    "# performance\n",
    "metrics(y_test, y_pred_test, 'Teste')\n",
    "\n",
    "# guardando resultados\n",
    "r2_test, mse_test, rmse_test, mae_test, mape_test = save_metrics(y_test, y_pred_test)"
   ]
  },
  {
   "cell_type": "markdown",
   "id": "9d097974-7ab1-4f4b-afe0-fdd3832b8f39",
   "metadata": {},
   "source": [
    "# 3.0 Save Results"
   ]
  },
  {
   "cell_type": "code",
   "execution_count": 16,
   "id": "26336237-e978-445a-bb92-99ce10bac09a",
   "metadata": {},
   "outputs": [],
   "source": [
    "train_metrics = {\n",
    "    'Algoritmo': 'Random_Forest_Regressor',\n",
    "    'R2'   : r2_train,\n",
    "    'MSE'  : mse_train,\n",
    "    'RMSE' : rmse_train,\n",
    "    'MAE'  : mae_train, \n",
    "    'MAPE' : mape_train\n",
    "}\n",
    "validation_metrics = {\n",
    "    'Algoritmo': 'Random_Forest_Regressor',\n",
    "    'R2'   : r2_val,\n",
    "    'MSE'  : mse_val,\n",
    "    'RMSE' : rmse_val,\n",
    "    'MAE'  : mae_val, \n",
    "    'MAPE' : mape_val\n",
    "}\n",
    "test_metrics = {\n",
    "    'Algoritmo': 'Random_Forest_Regressor',\n",
    "    'R2'   : r2_test,\n",
    "    'MSE'  : mse_test,\n",
    "    'RMSE' : rmse_test,\n",
    "    'MAE'  : mae_test, \n",
    "    'MAPE' : mape_test\n",
    "}\n",
    "\n",
    "train = pd.DataFrame([train_metrics])\n",
    "validation = pd.DataFrame([validation_metrics])\n",
    "test = pd.DataFrame([test_metrics])\n",
    "\n",
    "train.to_csv(\n",
    "    './train_metrics_regressao.csv',\n",
    "    mode ='a',\n",
    "    index=False,\n",
    "    header=not os.path.exists('./train_metrics_regressao.csv')\n",
    ")\n",
    "\n",
    "validation.to_csv(\n",
    "    './validation_metrics_regressao.csv',\n",
    "    mode ='a',\n",
    "    index=False,\n",
    "    header=not os.path.exists('./validation_metrics_regressao.csv')\n",
    ")\n",
    "\n",
    "test.to_csv(\n",
    "    './test_metrics_regressao.csv',\n",
    "    mode ='a',\n",
    "    index=False,\n",
    "    header=not os.path.exists('./test_metrics_regressao.csv')\n",
    "\n",
    ")"
   ]
  }
 ],
 "metadata": {
  "kernelspec": {
   "display_name": "ciclo_2",
   "language": "python",
   "name": "python3"
  },
  "language_info": {
   "codemirror_mode": {
    "name": "ipython",
    "version": 3
   },
   "file_extension": ".py",
   "mimetype": "text/x-python",
   "name": "python",
   "nbconvert_exporter": "python",
   "pygments_lexer": "ipython3",
   "version": "3.9.18"
  }
 },
 "nbformat": 4,
 "nbformat_minor": 5
}

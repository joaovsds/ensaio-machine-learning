{
 "cells": [
  {
   "cell_type": "code",
   "execution_count": 1,
   "id": "86adf47d",
   "metadata": {},
   "outputs": [],
   "source": [
    "def load_data(algoritmo):\n",
    "    # train dataset\n",
    "    x_train = pd.read_csv(f'../datasets/{algoritmo}/X_training.csv')\n",
    "    y_train = pd.read_csv(f'../datasets/{algoritmo}/y_training.csv')\n",
    "    \n",
    "    # validation dataset\n",
    "    x_val = pd.read_csv(f'../datasets/{algoritmo}/X_validation.csv')\n",
    "    y_val = pd.read_csv(f'../datasets/{algoritmo}/y_validation.csv')\n",
    "    \n",
    "    # test dataset\n",
    "    x_test = pd.read_csv(f'../datasets/{algoritmo}/X_test.csv')\n",
    "    y_test = pd.read_csv(f'../datasets/{algoritmo}/y_test.csv')\n",
    "\n",
    "    # transformando em um array unidimensional\n",
    "    y_train = np.ravel(y_train)\n",
    "    y_val   = np.ravel(y_val)\n",
    "    y_test  = np.ravel(y_test)\n",
    "\n",
    "    return x_train, y_train, x_val, y_val, x_test, y_test"
   ]
  },
  {
   "cell_type": "code",
   "execution_count": 2,
   "id": "06cb3829-0de4-4c49-9fb3-9f88a5f722f2",
   "metadata": {},
   "outputs": [],
   "source": [
    "def metrics(x, y, i):\n",
    "    # metricas de performance\n",
    "    r2   = np.round(r2_score(x, y), 3)\n",
    "    mse  = np.round(mean_squared_error(x, y), 3)\n",
    "    rmse = np.round(np.sqrt(mean_squared_error(x, y)), 3)\n",
    "    mae  = np.round(mean_absolute_error(x, y), 3)\n",
    "    mape = np.round(mean_absolute_percentage_error(x, y), 3)\n",
    "    \n",
    "    # resultados\n",
    "    print('Metricas de {}: '.format(i))\n",
    "    print(f'R2:   {r2}')\n",
    "    print(f'MSE:  {mse}')\n",
    "    print(f'RMSE: {rmse}')\n",
    "    print(f'MAE:  {mae}')\n",
    "    print(f'MAPE: {mape}')"
   ]
  },
  {
   "cell_type": "code",
   "execution_count": 3,
   "id": "83a633ee-f328-43f3-90bb-4ed284a6a341",
   "metadata": {},
   "outputs": [],
   "source": [
    "def save_metrics(x, y):\n",
    "    # metricas de performance\n",
    "    r2   = np.round(r2_score(x, y), 3)\n",
    "    mse  = np.round(mean_squared_error(x, y), 3)\n",
    "    rmse = np.round(np.sqrt(mean_squared_error(x, y)), 3)\n",
    "    mae  = np.round(mean_absolute_error(x, y), 3)\n",
    "    mape = np.round(mean_absolute_percentage_error(x, y), 3)\n",
    "\n",
    "    return r2, mse, rmse, mae, mape"
   ]
  }
 ],
 "metadata": {
  "kernelspec": {
   "display_name": "ciclo_2",
   "language": "python",
   "name": "python3"
  },
  "language_info": {
   "codemirror_mode": {
    "name": "ipython",
    "version": 3
   },
   "file_extension": ".py",
   "mimetype": "text/x-python",
   "name": "python",
   "nbconvert_exporter": "python",
   "pygments_lexer": "ipython3",
   "version": "3.9.18"
  }
 },
 "nbformat": 4,
 "nbformat_minor": 5
}

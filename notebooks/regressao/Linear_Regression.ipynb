{
 "cells": [
  {
   "cell_type": "markdown",
   "id": "c922c295-6bb5-476d-9998-4759abe81f6c",
   "metadata": {},
   "source": [
    "# 0.0 Imports"
   ]
  },
  {
   "cell_type": "code",
   "execution_count": 1,
   "id": "aab3c8f7-cee4-4af2-95ff-a307b4c1e01b",
   "metadata": {},
   "outputs": [],
   "source": [
    "import warnings\n",
    "\n",
    "import pandas as pd\n",
    "import numpy  as np\n",
    "import os\n",
    "\n",
    "from matplotlib          import pyplot as plt\n",
    "from sklearn.linear_model import LinearRegression\n",
    "from sklearn.metrics     import r2_score, mean_squared_error, mean_absolute_error, mean_absolute_percentage_error"
   ]
  },
  {
   "cell_type": "code",
   "execution_count": 2,
   "id": "49bcd254-e681-4b5c-8d9a-45dad6db652e",
   "metadata": {},
   "outputs": [],
   "source": [
    "warnings.filterwarnings('ignore')"
   ]
  },
  {
   "cell_type": "markdown",
   "id": "bc838396-b480-428a-b059-723519822000",
   "metadata": {},
   "source": [
    "# 1.0  Load Datasets"
   ]
  },
  {
   "cell_type": "code",
   "execution_count": 3,
   "id": "cb7df262-0039-4091-beca-6bafc2dff859",
   "metadata": {},
   "outputs": [],
   "source": [
    "# executando o arquivo metrics_functions\n",
    "get_ipython().run_line_magic('run', 'Metrics_functions.ipynb')"
   ]
  },
  {
   "cell_type": "code",
   "execution_count": 4,
   "id": "8a5c5c0e-0184-4e85-96e2-9d6a337d0571",
   "metadata": {},
   "outputs": [],
   "source": [
    "# carregando os dados\n",
    "x_train, y_train, x_val, y_val, x_test, y_test = load_data('regressao')"
   ]
  },
  {
   "cell_type": "markdown",
   "id": "863dfea3-d17d-4711-aa6a-8a5bc6f05ac7",
   "metadata": {},
   "source": [
    "# 2.0 Training Model"
   ]
  },
  {
   "cell_type": "code",
   "execution_count": 5,
   "id": "38f11858-4c67-470c-8ea6-38db4360e6cf",
   "metadata": {},
   "outputs": [
    {
     "name": "stdout",
     "output_type": "stream",
     "text": [
      "Metricas de Treinamento: \n",
      "R2:   0.046\n",
      "MSE:  455.996\n",
      "RMSE: 21.354\n",
      "MAE:  16.998\n",
      "MAPE: 8.653\n"
     ]
    }
   ],
   "source": [
    "# treinamento \n",
    "Lm = LinearRegression()\n",
    "Lm.fit(x_train, y_train)\n",
    "\n",
    "#predict\n",
    "y_pred = Lm.predict(x_train) \n",
    "\n",
    "# performance\n",
    "metrics(y_train, y_pred, 'Treinamento')\n",
    "\n",
    "# guarando resultados\n",
    "r2_train, mse_train, rmse_train, mae_train, mape_train = save_metrics(y_train, y_pred)"
   ]
  },
  {
   "cell_type": "markdown",
   "id": "526c7ef5-692d-4a94-a58a-6d9bd7532756",
   "metadata": {},
   "source": [
    "## 2.1 Performance on Validation Data"
   ]
  },
  {
   "cell_type": "code",
   "execution_count": 6,
   "id": "ba34b068-f296-4d36-98e3-9ee97ff1cf70",
   "metadata": {},
   "outputs": [
    {
     "name": "stdout",
     "output_type": "stream",
     "text": [
      "Metricas de Validação: \n",
      "R2:   0.04\n",
      "MSE:  458.447\n",
      "RMSE: 21.411\n",
      "MAE:  17.04\n",
      "MAPE: 8.683\n"
     ]
    }
   ],
   "source": [
    "# treinamento\n",
    "Lm = LinearRegression()\n",
    "Lm.fit(x_train, y_train)\n",
    "\n",
    "#predict\n",
    "y_pred_val = Lm.predict(x_val)\n",
    "\n",
    "#performance\n",
    "metrics(y_val, y_pred_val, 'Validação')\n",
    "\n",
    "# guardando resultados\n",
    "r2_val, mse_val, rmse_val, mae_val, mape_val = save_metrics(y_val, y_pred_val)"
   ]
  },
  {
   "cell_type": "markdown",
   "id": "3c35016e-91e3-4d01-8f35-999093bdcca9",
   "metadata": {},
   "source": [
    "## 2.2 Performance on Test Data"
   ]
  },
  {
   "cell_type": "code",
   "execution_count": 7,
   "id": "154e99ad-3a69-45a5-b157-bf0ba75ab624",
   "metadata": {},
   "outputs": [
    {
     "name": "stdout",
     "output_type": "stream",
     "text": [
      "Metricas de Teste: \n",
      "R2:   0.051\n",
      "MSE:  461.988\n",
      "RMSE: 21.494\n",
      "MAE:  17.144\n",
      "MAPE: 8.531\n"
     ]
    }
   ],
   "source": [
    "# treinamento \n",
    "Lm = LinearRegression()\n",
    "Lm.fit(np.concatenate((x_train, x_val)),\n",
    "         np.concatenate((y_train, y_val)))\n",
    "\n",
    "#predict\n",
    "y_pred_test = Lm.predict(x_test)\n",
    "\n",
    "# performance\n",
    "metrics(y_test, y_pred_test, 'Teste')\n",
    "\n",
    "# guardando resultados\n",
    "r2_test, mse_test, rmse_test, mae_test, mape_test = save_metrics(y_test, y_pred_test)"
   ]
  },
  {
   "cell_type": "markdown",
   "id": "9d097974-7ab1-4f4b-afe0-fdd3832b8f39",
   "metadata": {},
   "source": [
    "# 3.0 Save Results"
   ]
  },
  {
   "cell_type": "code",
   "execution_count": 8,
   "id": "26336237-e978-445a-bb92-99ce10bac09a",
   "metadata": {},
   "outputs": [],
   "source": [
    "train_metrics = {\n",
    "    'Algoritmo': 'Linear_Regression',\n",
    "    'R2'   : r2_train,\n",
    "    'MSE'  : mse_train,\n",
    "    'RMSE' : rmse_train,\n",
    "    'MAE'  : mae_train, \n",
    "    'MAPE' : mape_train\n",
    "}\n",
    "validation_metrics = {\n",
    "    'Algoritmo': 'Linear_Regression',\n",
    "    'R2'   : r2_val,\n",
    "    'MSE'  : mse_val,\n",
    "    'RMSE' : rmse_val,\n",
    "    'MAE'  : mae_val, \n",
    "    'MAPE' : mape_val\n",
    "}\n",
    "test_metrics = {\n",
    "    'Algoritmo': 'Linear_Regression',\n",
    "    'R2'   : r2_test,\n",
    "    'MSE'  : mse_test,\n",
    "    'RMSE' : rmse_test,\n",
    "    'MAE'  : mae_test, \n",
    "    'MAPE' : mape_test\n",
    "}\n",
    "\n",
    "train = pd.DataFrame([train_metrics])\n",
    "validation = pd.DataFrame([validation_metrics])\n",
    "test = pd.DataFrame([test_metrics])\n",
    "\n",
    "train.to_csv(\n",
    "    './train_metrics_regressao.csv',\n",
    "    mode ='a',\n",
    "    index=False,\n",
    "    header=not os.path.exists('./train_metrics_regressao.csv')\n",
    ")\n",
    "\n",
    "validation.to_csv(\n",
    "    './validation_metrics_regressao.csv',\n",
    "    mode ='a',\n",
    "    index=False,\n",
    "    header=not os.path.exists('./validation_metrics_regressao.csv')\n",
    ")\n",
    "\n",
    "test.to_csv(\n",
    "    './test_metrics_regressao.csv',\n",
    "    mode ='a',\n",
    "    index=False,\n",
    "    header=not os.path.exists('./test_metrics_regressao.csv')\n",
    "\n",
    ")"
   ]
  }
 ],
 "metadata": {
  "kernelspec": {
   "display_name": "ciclo_2",
   "language": "python",
   "name": "python3"
  },
  "language_info": {
   "codemirror_mode": {
    "name": "ipython",
    "version": 3
   },
   "file_extension": ".py",
   "mimetype": "text/x-python",
   "name": "python",
   "nbconvert_exporter": "python",
   "pygments_lexer": "ipython3",
   "version": "3.9.18"
  }
 },
 "nbformat": 4,
 "nbformat_minor": 5
}

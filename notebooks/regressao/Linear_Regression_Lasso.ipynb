{
 "cells": [
  {
   "cell_type": "markdown",
   "id": "c922c295-6bb5-476d-9998-4759abe81f6c",
   "metadata": {},
   "source": [
    "# 0.0 Imports"
   ]
  },
  {
   "cell_type": "code",
   "execution_count": 2,
   "id": "aab3c8f7-cee4-4af2-95ff-a307b4c1e01b",
   "metadata": {},
   "outputs": [],
   "source": [
    "import warnings\n",
    "\n",
    "import pandas as pd\n",
    "import numpy  as np\n",
    "import os\n",
    " \n",
    "from matplotlib           import pyplot as plt\n",
    "from sklearn.linear_model import Lasso\n",
    "from sklearn.metrics      import r2_score, mean_squared_error, mean_absolute_error, mean_absolute_percentage_error"
   ]
  },
  {
   "cell_type": "code",
   "execution_count": 3,
   "id": "49bcd254-e681-4b5c-8d9a-45dad6db652e",
   "metadata": {},
   "outputs": [],
   "source": [
    "warnings.filterwarnings( 'ignore')"
   ]
  },
  {
   "cell_type": "markdown",
   "id": "bc838396-b480-428a-b059-723519822000",
   "metadata": {},
   "source": [
    "# 1.0  Load Datasets"
   ]
  },
  {
   "cell_type": "code",
   "execution_count": 4,
   "id": "cb7df262-0039-4091-beca-6bafc2dff859",
   "metadata": {},
   "outputs": [],
   "source": [
    "# executando o arquivo metrics_functions\n",
    "get_ipython().run_line_magic('run', 'Metrics_functions.ipynb')"
   ]
  },
  {
   "cell_type": "code",
   "execution_count": 5,
   "id": "8a5c5c0e-0184-4e85-96e2-9d6a337d0571",
   "metadata": {},
   "outputs": [],
   "source": [
    "# carregando os dados\n",
    "x_train, y_train, x_val, y_val, x_test, y_test = load_data('regressao')"
   ]
  },
  {
   "cell_type": "markdown",
   "id": "863dfea3-d17d-4711-aa6a-8a5bc6f05ac7",
   "metadata": {},
   "source": [
    "# 2.0 Training Model"
   ]
  },
  {
   "cell_type": "code",
   "execution_count": 6,
   "id": "38f11858-4c67-470c-8ea6-38db4360e6cf",
   "metadata": {},
   "outputs": [
    {
     "name": "stdout",
     "output_type": "stream",
     "text": [
      "Metricas de Treinamento: \n",
      "R2:   0.007\n",
      "MSE:  474.475\n",
      "RMSE: 21.782\n",
      "MAE:  17.305\n",
      "MAPE: 8.737\n"
     ]
    }
   ],
   "source": [
    "# treinamento \n",
    "Ls = Lasso()\n",
    "Ls.fit(x_train, y_train)\n",
    "\n",
    "#predict\n",
    "y_pred = Ls.predict(x_train) \n",
    "\n",
    "# performance\n",
    "metrics(y_train, y_pred, 'Treinamento')\n",
    "\n",
    "# guarando resultados\n",
    "r2_train, mse_train, rmse_train, mae_train, mape_train = save_metrics(y_train, y_pred)"
   ]
  },
  {
   "cell_type": "markdown",
   "id": "526c7ef5-692d-4a94-a58a-6d9bd7532756",
   "metadata": {},
   "source": [
    "## 2.1 Performance on Validation Data"
   ]
  },
  {
   "cell_type": "code",
   "execution_count": 7,
   "id": "ba34b068-f296-4d36-98e3-9ee97ff1cf70",
   "metadata": {},
   "outputs": [
    {
     "name": "stdout",
     "output_type": "stream",
     "text": [
      "Metricas de Validação: \n",
      "R2:   0.008\n",
      "MSE:  473.747\n",
      "RMSE: 21.766\n",
      "MAE:  17.265\n",
      "MAPE: 8.696\n"
     ]
    }
   ],
   "source": [
    "# treinamento\n",
    "Ls = Lasso()\n",
    "Ls.fit(x_train, y_train)\n",
    "\n",
    "#predict\n",
    "y_pred_val = Ls.predict(x_val)\n",
    "\n",
    "#performance\n",
    "metrics(y_val, y_pred_val, 'Validação')\n",
    "\n",
    "# guardando resultados\n",
    "r2_val, mse_val, rmse_val, mae_val, mape_val = save_metrics(y_val, y_pred_val)"
   ]
  },
  {
   "cell_type": "markdown",
   "id": "3c35016e-91e3-4d01-8f35-999093bdcca9",
   "metadata": {},
   "source": [
    "## 2.2 Finding The best Parameter"
   ]
  },
  {
   "cell_type": "markdown",
   "id": "dc060486-8315-4e8c-891b-2f60600f3572",
   "metadata": {},
   "source": [
    "### Parameter\n",
    "* Max_Iter\n",
    "* Alpha"
   ]
  },
  {
   "cell_type": "code",
   "execution_count": 8,
   "id": "be8e5e91-fc4c-4920-b09d-7b71c018944f",
   "metadata": {},
   "outputs": [],
   "source": [
    "values = np.arange(200, 2200, 100)\n",
    "\n",
    "r2_list = []\n",
    "mse_list = []\n",
    "rmse_list = []\n",
    "mae_list = []\n",
    "mape_list = []"
   ]
  },
  {
   "cell_type": "code",
   "execution_count": 9,
   "id": "6ea7c276-9ebc-40f7-94a6-af8dcee64bca",
   "metadata": {},
   "outputs": [],
   "source": [
    "for i in values:\n",
    "    # treinamento\n",
    "    Lm = Lasso( max_iter = i)\n",
    "    Lm.fit(x_train, y_train)\n",
    "\n",
    "    #predict\n",
    "    y_pred_val = Lm.predict(x_val)\n",
    "\n",
    "    # performance\n",
    "    r2, mse, rmse, mae, mape = save_metrics(y_val, y_pred_val)\n",
    "\n",
    "    #guarando resultados\n",
    "    r2_list.append(r2)\n",
    "    mse_list.append(mse)\n",
    "    rmse_list.append(rmse)\n",
    "    mae_list.append(mae)\n",
    "    mape_list.append(mape)"
   ]
  },
  {
   "cell_type": "code",
   "execution_count": 10,
   "id": "4bd5f39c-cc1a-47ea-ba24-f7faf0f48912",
   "metadata": {},
   "outputs": [
    {
     "data": {
      "text/plain": [
       "<matplotlib.legend.Legend at 0x77f6f7ee59a0>"
      ]
     },
     "execution_count": 10,
     "metadata": {},
     "output_type": "execute_result"
    },
    {
     "data": {
      "image/png": "[encoded data removed]",
      "text/plain": [
       "<Figure size 640x480 with 1 Axes>"
      ]
     },
     "metadata": {},
     "output_type": "display_data"
    }
   ],
   "source": [
    "# Visualização da metrica\n",
    "plt.plot(values, rmse_list, marker = 'o', label = 'RMSE')\n",
    "plt.xlabel('Max Iter')\n",
    "plt.ylabel('RMSE')\n",
    "plt.legend()"
   ]
  },
  {
   "cell_type": "code",
   "execution_count": 11,
   "id": "319ad22c-a2e1-4bd6-acc3-414e9c50bf32",
   "metadata": {},
   "outputs": [
    {
     "data": {
      "text/plain": [
       "200"
      ]
     },
     "execution_count": 11,
     "metadata": {},
     "output_type": "execute_result"
    }
   ],
   "source": [
    "best_iter = values[np.argmin(rmse_list)]\n",
    "best_iter"
   ]
  },
  {
   "cell_type": "code",
   "execution_count": 12,
   "id": "ddf4e0db-cb99-4845-87b7-ba93bd685e4c",
   "metadata": {},
   "outputs": [],
   "source": [
    "values = np.arange(0, 7, 0.2)\n",
    "\n",
    "r2_list = []\n",
    "mse_list = []\n",
    "rmse_list = []\n",
    "mae_list = []\n",
    "mape_list = []"
   ]
  },
  {
   "cell_type": "code",
   "execution_count": 13,
   "id": "cf27d8b0-ab02-4328-a1fd-3a300c941d88",
   "metadata": {},
   "outputs": [],
   "source": [
    "for i in values:\n",
    "    # treinamento\n",
    "    Lm = Lasso( alpha = i)\n",
    "    Lm.fit(x_train, y_train)\n",
    "\n",
    "    #predict\n",
    "    y_pred_val = Lm.predict(x_val)\n",
    "\n",
    "    # performance\n",
    "    r2, mse, rmse, mae, mape = save_metrics(y_val, y_pred_val)\n",
    "\n",
    "    #guarando resultados\n",
    "    r2_list.append(r2)\n",
    "    mse_list.append(mse)\n",
    "    rmse_list.append(rmse)\n",
    "    mae_list.append(mae)\n",
    "    mape_list.append(mape)"
   ]
  },
  {
   "cell_type": "code",
   "execution_count": 14,
   "id": "0f311fe2-25ff-4074-88ca-5e2e2a3bc778",
   "metadata": {},
   "outputs": [
    {
     "data": {
      "text/plain": [
       "<matplotlib.legend.Legend at 0x77f6f80520a0>"
      ]
     },
     "execution_count": 14,
     "metadata": {},
     "output_type": "execute_result"
    },
    {
     "data": {
      "image/png": "[encoded data removed]",
      "text/plain": [
       "<Figure size 640x480 with 1 Axes>"
      ]
     },
     "metadata": {},
     "output_type": "display_data"
    }
   ],
   "source": [
    "# Visualização da metrica\n",
    "plt.plot(values, rmse_list, marker = 'o', label = 'RMSE')\n",
    "plt.xlabel('Alpha')\n",
    "plt.ylabel('RMSE')\n",
    "plt.legend()"
   ]
  },
  {
   "cell_type": "code",
   "execution_count": 15,
   "id": "3af29eab-e018-4733-9c59-d9c7f35fafa2",
   "metadata": {},
   "outputs": [
    {
     "data": {
      "text/plain": [
       "0.0"
      ]
     },
     "execution_count": 15,
     "metadata": {},
     "output_type": "execute_result"
    }
   ],
   "source": [
    "best_alpha = values[np.argmin(rmse_list)]\n",
    "best_alpha"
   ]
  },
  {
   "cell_type": "markdown",
   "id": "304f4edd-16a2-446b-941b-812a432f1d95",
   "metadata": {},
   "source": [
    "## 2.3 Performance on Test Data"
   ]
  },
  {
   "cell_type": "code",
   "execution_count": 16,
   "id": "154e99ad-3a69-45a5-b157-bf0ba75ab624",
   "metadata": {},
   "outputs": [
    {
     "name": "stdout",
     "output_type": "stream",
     "text": [
      "Metricas de Teste: \n",
      "R2:   0.051\n",
      "MSE:  461.988\n",
      "RMSE: 21.494\n",
      "MAE:  17.144\n",
      "MAPE: 8.531\n"
     ]
    }
   ],
   "source": [
    "# treinamento \n",
    "Ls = Lasso(max_iter = best_iter, alpha = best_alpha)\n",
    "Ls.fit(np.concatenate((x_train, x_val)),\n",
    "       np.concatenate((y_train, y_val)))\n",
    "\n",
    "#predict\n",
    "y_pred_test = Ls.predict(x_test)\n",
    "\n",
    "# performance\n",
    "metrics(y_test, y_pred_test, 'Teste')\n",
    "\n",
    "# guardando resultados\n",
    "r2_test, mse_test, rmse_test, mae_test, mape_test = save_metrics(y_test, y_pred_test)"
   ]
  },
  {
   "cell_type": "markdown",
   "id": "9d097974-7ab1-4f4b-afe0-fdd3832b8f39",
   "metadata": {},
   "source": [
    "# 3.0 Save Results"
   ]
  },
  {
   "cell_type": "code",
   "execution_count": 17,
   "id": "26336237-e978-445a-bb92-99ce10bac09a",
   "metadata": {},
   "outputs": [],
   "source": [
    "train_metrics = {\n",
    "    'Algoritmo': 'Linear_Regression - Lasso',\n",
    "    'R2'   : r2_train,\n",
    "    'MSE'  : mse_train,\n",
    "    'RMSE' : rmse_train,\n",
    "    'MAE'  : mae_train, \n",
    "    'MAPE' : mape_train\n",
    "}\n",
    "validation_metrics = {\n",
    "    'Algoritmo': 'Linear_Regression - Lasso',\n",
    "    'R2'   : r2_val,\n",
    "    'MSE'  : mse_val,\n",
    "    'RMSE' : rmse_val,\n",
    "    'MAE'  : mae_val, \n",
    "    'MAPE' : mape_val\n",
    "}\n",
    "test_metrics = {\n",
    "    'Algoritmo': 'Linear_Regression - Lasso',\n",
    "    'R2'   : r2_test,\n",
    "    'MSE'  : mse_test,\n",
    "    'RMSE' : rmse_test,\n",
    "    'MAE'  : mae_test, \n",
    "    'MAPE' : mape_test\n",
    "}\n",
    "\n",
    "train = pd.DataFrame([train_metrics])\n",
    "validation = pd.DataFrame([validation_metrics])\n",
    "test = pd.DataFrame([test_metrics])\n",
    "\n",
    "train.to_csv(\n",
    "    './train_metrics_regressao.csv',\n",
    "    mode ='a',\n",
    "    index=False,\n",
    "    header=not os.path.exists('./train_metrics_regressao.csv')\n",
    ")\n",
    "\n",
    "validation.to_csv(\n",
    "    './validation_metrics_regressao.csv',\n",
    "    mode ='a',\n",
    "    index=False,\n",
    "    header=not os.path.exists('./validation_metrics_regressao.csv')\n",
    ")\n",
    "\n",
    "test.to_csv(\n",
    "    './test_metrics_regressao.csv',\n",
    "    mode ='a',\n",
    "    index=False,\n",
    "    header=not os.path.exists('./test_metrics_regressao.csv')\n",
    "\n",
    ")"
   ]
  }
 ],
 "metadata": {
  "kernelspec": {
   "display_name": "ciclo_2",
   "language": "python",
   "name": "python3"
  },
  "language_info": {
   "codemirror_mode": {
    "name": "ipython",
    "version": 3
   },
   "file_extension": ".py",
   "mimetype": "text/x-python",
   "name": "python",
   "nbconvert_exporter": "python",
   "pygments_lexer": "ipython3",
   "version": "3.9.18"
  }
 },
 "nbformat": 4,
 "nbformat_minor": 5
}
